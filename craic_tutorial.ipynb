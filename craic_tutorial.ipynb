{
 "cells": [
  {
   "cell_type": "markdown",
   "metadata": {},
   "source": [
    "## Cosmic Ray Acceleration and Interactions with Clouds (CRAIC) Tutorial\n",
    "\n",
    "This python package models:\n",
    "* properties of an astrophysical accelerator (such as a supernova remnant)\n",
    "* propagation of cosmic rays through the interstellar medium\n",
    "* interactions with target material such as clouds\n",
    "* resulting gamma-ray and neutrino flux\n",
    "\n",
    "The structure is divided into several modules, as well as a couple of scripts and is a work in progress. \n",
    "This notebook gives some example usage. \n",
    "Prerequisites:\n",
    "- numpy\n",
    "- astropy\n",
    "- matplotlib\n",
    "\n",
    "First, import the relevant packages and functions from craic."
   ]
  },
  {
   "cell_type": "code",
   "execution_count": 1,
   "metadata": {},
   "outputs": [],
   "source": [
    "import sys\n",
    "import numpy as np\n",
    "import astropy.constants as c\n",
    "import astropy.units as u\n",
    "import matplotlib.pyplot as plt\n",
    "\n",
    "%matplotlib inline"
   ]
  },
  {
   "cell_type": "code",
   "execution_count": 2,
   "metadata": {},
   "outputs": [],
   "source": [
    "# Import some useful modules\n",
    "\n",
    "from craic.particles import particles as pa\n",
    "from craic.transport import transport as tr\n",
    "from craic.accelerator import accelerator as ac\n",
    "from craic.flux import flux as fl\n",
    "from craic import injection as inj\n",
    "from craic.SNR_Cloud_Flux import SNR_Cloud_Flux"
   ]
  },
  {
   "cell_type": "code",
   "execution_count": 3,
   "metadata": {},
   "outputs": [],
   "source": [
    "# Set figure parameters\n",
    "\n",
    "SMALL_SIZE = 11\n",
    "MEDIUM_SIZE = 12\n",
    "\n",
    "plt.rc('font', size=SMALL_SIZE)          # controls default text sizes\n",
    "plt.rc('axes', titlesize=SMALL_SIZE)     # fontsize of the axes title\n",
    "plt.rc('axes', labelsize=MEDIUM_SIZE)    # fontsize of the x and y labels\n",
    "plt.rc('xtick', labelsize=SMALL_SIZE)    # fontsize of the tick labels\n",
    "plt.rc('ytick', labelsize=SMALL_SIZE)    # fontsize of the tick labels\n",
    "plt.rc('legend', fontsize=SMALL_SIZE)    # legend fontsize"
   ]
  },
  {
   "cell_type": "code",
   "execution_count": 4,
   "metadata": {},
   "outputs": [],
   "source": [
    "#Note: each of these classes is initiated with default values that can be altered\n",
    "\n",
    "acel = ac() #default explosion energy 1e51 erg\n",
    "part = pa() #default power-law index alpha = 2, default energy budget 1e50 erg\n",
    "tran = tr() #default diffusion coefficient 3x10^27 cm^2/s at 1 GeV, default chi = 0.05\n",
    "fluxfunc = fl() #default index alpha = 2"
   ]
  },
  {
   "cell_type": "markdown",
   "metadata": {},
   "source": [
    "Let's start by exploring the functions available with a few modules in turn.\n",
    "\n",
    "### accelerator \n",
    "\n",
    "The 'escape_time' function provides the energy dependent escape time for particles accelerated in the remnants type IIb or type Ia supernovae. "
   ]
  },
  {
   "cell_type": "code",
   "execution_count": 5,
   "metadata": {},
   "outputs": [
    {
     "name": "stdout",
     "output_type": "stream",
     "text": [
      "The escape time of accelerated 1 PeV particles in a type IIb supernova is 1596.3332592430165 yr\n"
     ]
    }
   ],
   "source": [
    "print(\"The escape time of accelerated 1 PeV particles in a type IIb supernova is\", acel.escape_time(Ep=1e6*u.GeV,typeIIb=True)[0])"
   ]
  },
  {
   "cell_type": "code",
   "execution_count": 6,
   "metadata": {},
   "outputs": [
    {
     "name": "stdout",
     "output_type": "stream",
     "text": [
      "The escape time of accelerated 1 PeV particles in a type Ia supernova is 234.0000000000412 yr\n"
     ]
    }
   ],
   "source": [
    "print(\"The escape time of accelerated 1 PeV particles in a type Ia supernova is\", acel.escape_time(Ep=1e6*u.GeV,typeIIb=False)[0])"
   ]
  },
  {
   "cell_type": "markdown",
   "metadata": {},
   "source": [
    "The supernova radius is calculated as a function of age assuming evolution in the Sedov stage. "
   ]
  },
  {
   "cell_type": "code",
   "execution_count": 7,
   "metadata": {},
   "outputs": [
    {
     "name": "stdout",
     "output_type": "stream",
     "text": [
      "The radius of an expanding supernova with an age of 1000 years in the Sedov stage is 4.985557942259198 pc\n"
     ]
    }
   ],
   "source": [
    "print(\"The radius of an expanding supernova with an age of 1000 years in the Sedov stage is\", acel.SNR_Radius(time=1e3*u.yr)[0])"
   ]
  },
  {
   "cell_type": "markdown",
   "metadata": {},
   "source": [
    "This expression can be inverted to obtain the SNR age, given its radius. "
   ]
  },
  {
   "cell_type": "code",
   "execution_count": 8,
   "metadata": {},
   "outputs": [
    {
     "name": "stdout",
     "output_type": "stream",
     "text": [
      "The age of a 10-pc expanding supernova in the Sedov stage is 5697.909932261937 yr\n"
     ]
    }
   ],
   "source": [
    "print(\"The age of a 10-pc expanding supernova in the Sedov stage is\", acel.SNR_age(size=10.*u.pc)[0])"
   ]
  },
  {
   "cell_type": "markdown",
   "metadata": {},
   "source": [
    "### particles\n",
    "\n",
    "The particles class contains functions describing the interaction cross-section and cooling time for p-p collisions, using the parameterisation of Kafexhiu et al (2014). \n",
    "\n",
    "It also contains a normalisation of the energy budget based on the particle spectrum."
   ]
  },
  {
   "cell_type": "code",
   "execution_count": 9,
   "metadata": {},
   "outputs": [
    {
     "name": "stdout",
     "output_type": "stream",
     "text": [
      "The p-p interaction cross-section at 100 TeV is 4.785567213707722e-26 cm2\n"
     ]
    }
   ],
   "source": [
    "print(\"The p-p interaction cross-section at 100 TeV is\", part.sig_ppEK(Ep=1e5*u.GeV))"
   ]
  },
  {
   "cell_type": "code",
   "execution_count": 10,
   "metadata": {},
   "outputs": [
    {
     "name": "stdout",
     "output_type": "stream",
     "text": [
      "The cooling time for p-p interactions at 100 TeV is 82.13042883370403 kyr\n"
     ]
    }
   ],
   "source": [
    "print(\"The cooling time for p-p interactions at 100 TeV is\", part.t_ppEK(dens=500.*u.cm**-3, Ep=1e6*u.GeV).to(u.kyr))"
   ]
  },
  {
   "cell_type": "code",
   "execution_count": 11,
   "metadata": {},
   "outputs": [
    {
     "name": "stdout",
     "output_type": "stream",
     "text": [
      "The normalisation is 4.9490468144220834e+51 GeV\n"
     ]
    }
   ],
   "source": [
    "#Default values for the energy range are 10 GeV to 3 PeV\n",
    "print(\"The normalisation is\", part.NormEbudget())"
   ]
  },
  {
   "cell_type": "markdown",
   "metadata": {},
   "source": [
    "### transport\n",
    "\n",
    "The transport class contains functions for the energy dependence of the diffusion coefficient and for the diffusion radius. It also contains a function describing the magnetic field strength in clouds calculated based on Crutcher et al (2010). "
   ]
  },
  {
   "cell_type": "code",
   "execution_count": 12,
   "metadata": {},
   "outputs": [
    {
     "name": "stdout",
     "output_type": "stream",
     "text": [
      "The magnetic field strength in a cloud with density 500 cm^-3 is 13.938039380837822 uG\n"
     ]
    }
   ],
   "source": [
    "print(r\"The magnetic field strength in a cloud with density 500 cm^-3 is\", tran.B_mag(np.array([500.])*u.cm**(-3))[0])"
   ]
  },
  {
   "cell_type": "code",
   "execution_count": 13,
   "metadata": {},
   "outputs": [
    {
     "name": "stdout",
     "output_type": "stream",
     "text": [
      "The diffusion coefficient in a cloud is 2.598076211353316e+27 cm2 / s\n"
     ]
    }
   ],
   "source": [
    "print(\"The diffusion coefficient in a cloud is\", tran.Diffusion_Coefficient(1e5*u.GeV,np.array([200.])*u.cm**(-3))[0])"
   ]
  },
  {
   "cell_type": "markdown",
   "metadata": {},
   "source": [
    "The last argument is a flag indicating whether or not the diffusion is in the ISM or a cloud. \n",
    "The default density assumed for the ISM is 1 cm$^{-3}$."
   ]
  },
  {
   "cell_type": "code",
   "execution_count": 14,
   "metadata": {},
   "outputs": [
    {
     "name": "stdout",
     "output_type": "stream",
     "text": [
      "The diffusion coefficient in the ISM is 9.486832980505138e+28 cm2 / s\n"
     ]
    }
   ],
   "source": [
    "print(\"The diffusion coefficient in the ISM is\", tran.Diffusion_Coefficient(1e5*u.GeV,acel.nh2ism,ism=1)) #flag needed?"
   ]
  },
  {
   "cell_type": "markdown",
   "metadata": {},
   "source": [
    "As an example, how far could PeV particles travel in the ISM from a 1000 yr old SNR?\n",
    "And in a dense cloud during 100 yr?"
   ]
  },
  {
   "cell_type": "code",
   "execution_count": 15,
   "metadata": {},
   "outputs": [
    {
     "name": "stdout",
     "output_type": "stream",
     "text": [
      "The diffusion radius in the ISM is 63.065531665494376 pc\n"
     ]
    }
   ],
   "source": [
    "print(\"The diffusion radius in the ISM is\", tran.R_diffusion(1e6*u.GeV, a=np.array([1e3])*u.yr, dens=acel.nh2ism,ism=1).to('pc')[0])"
   ]
  },
  {
   "cell_type": "code",
   "execution_count": 16,
   "metadata": {},
   "outputs": [
    {
     "name": "stdout",
     "output_type": "stream",
     "text": [
      "The diffusion radius in the cloud is 3.3003300762775982 pc\n"
     ]
    }
   ],
   "source": [
    "print(\"The diffusion radius in the cloud is\", tran.R_diffusion(1e6*u.GeV, a=np.array([1e2])*u.yr, dens=np.array([100.])*u.cm**(-3)).to('pc')[0])"
   ]
  },
  {
   "cell_type": "markdown",
   "metadata": {},
   "source": [
    "### flux\n",
    "\n",
    "The flux module contains the gamma and neutrino kernels to evaluate the flux resulting from a protons at a given energy based on Kelner et al. 2006, and the cell based integration for flux throughout a cloud. "
   ]
  },
  {
   "cell_type": "code",
   "execution_count": 17,
   "metadata": {},
   "outputs": [],
   "source": [
    "test_Eg = 10.**np.linspace(np.log10(.1),np.log10(100))*u.TeV # TeV\n",
    "test_Ep = 10.**np.linspace(np.log10(1e3),np.log10(1e6))*u.GeV # GeV"
   ]
  },
  {
   "cell_type": "code",
   "execution_count": 18,
   "metadata": {},
   "outputs": [],
   "source": [
    "# Calculate the gamma-ray flux\n",
    "F_GAM = fluxfunc.compute_gamma_kernel(Eg=test_Eg,Ep=test_Ep)"
   ]
  },
  {
   "cell_type": "markdown",
   "metadata": {},
   "source": [
    "### injection\n",
    "\n",
    "The injection module computes the proton flux from point or extended sources in the impulsive or continuous injection cases given a set of source properties, based on Aharonian and Atoyan (1996). "
   ]
  },
  {
   "cell_type": "code",
   "execution_count": 19,
   "metadata": {},
   "outputs": [],
   "source": [
    "N0 = 1e49*u.erg\n",
    "test_pflux = inj.compute_pflux_impulsive_point(N_0=N0,Ep=1e5*u.GeV,d=np.array([50])*u.pc,\n",
    "                             a=np.array([2e4])*u.yr,dens=np.array([200.])*u.cm**(-3))"
   ]
  },
  {
   "cell_type": "code",
   "execution_count": 20,
   "metadata": {},
   "outputs": [
    {
     "name": "stdout",
     "output_type": "stream",
     "text": [
      "The calculated proton flux is 7.980614381401864e-22 1 / (GeV cm3)\n"
     ]
    }
   ],
   "source": [
    "print(\"The calculated proton flux is\", test_pflux[0])"
   ]
  },
  {
   "cell_type": "markdown",
   "metadata": {},
   "source": [
    "### Model chain and flux prediction\n",
    "\n",
    "To run through the full chain - i.e. the model used in the paper with particle acceleration at source, propagation through the ISM and interaction with target cloud to produce gamma-ray and neutrino flux, use the function SNR_Cloud_Flux. The model follows Kelner et al (2006).\n",
    "\n",
    "Input parameters:\n",
    "* nh2 = target material density ()\n",
    "* dist = separation distance accelerator to target cloud\n",
    "* age = SNR age\n",
    "\n",
    "Optional input parameters:\n",
    "* chi = diffusion suppression factor\n",
    "* distance_SNR = distance of SNR from Earth (~ pc)\n",
    "* radius_MC = radius of the cloud (~ pc)\n",
    "* accel_type = acceleration type (impulsive or continuous)\n",
    "* snr_typeII = a flag for type II or type IA SNRs\n",
    "* F_gal = flag whether or not to include which galactic CR spectrum: F_gal=False (default), \"AMS-O2\", \"DAMPE\"\n",
    "* palpha = power law index of the proton spectrum \n",
    "* D_fast = flag fast or slow diffusion in the ISM (changes the normalisation)\n",
    "* flag_low = include low energy correction ~GeV range"
   ]
  },
  {
   "cell_type": "code",
   "execution_count": 21,
   "metadata": {},
   "outputs": [],
   "source": [
    "#Function returns as arrays the gamma-ray energy, gamma-ray flux and neutrino flux\n",
    "\n",
    "SNRcloud = SNR_Cloud_Flux(Eg_lo=1*u.GeV, Eg_hi=3*u.PeV, F_gal=\"DAMPE\") # Change optional input parameters here if needed\n",
    "\n",
    "Eg, phi, phi_nu, phi_nue, phi_numu, phi_nutau = SNRcloud.compute_flux(\n",
    "    nh2=100*u.cm**-3,\n",
    "    dist=50*u.pc,\n",
    "    age=2e4*u.yr\n",
    ")\n"
   ]
  },
  {
   "cell_type": "code",
   "execution_count": 23,
   "metadata": {},
   "outputs": [
    {
     "data": {
      "image/png": "[encoded data removed]",
      "text/plain": [
       "<Figure size 640x480 with 1 Axes>"
      ]
     },
     "metadata": {},
     "output_type": "display_data"
    }
   ],
   "source": [
    "#plot the resulting spectra\n",
    "plt.plot(Eg, Eg*Eg*(phi),label=r'$\\gamma$')\n",
    "plt.plot(Eg, Eg*Eg*(phi_nu),label=r'$\\nu$')\n",
    "plt.plot(Eg, Eg*Eg*(phi_nue),label=r'$\\nu_e$')\n",
    "plt.plot(Eg, Eg*Eg*(phi_numu),label=r'$\\nu_\\mu$')\n",
    "plt.plot(Eg, Eg*Eg*(phi_nutau),label=r'$\\nu_\\tau$')\n",
    "plt.xscale('log')\n",
    "plt.yscale('log')\n",
    "plt.ylim(1e-14,1e-12)\n",
    "plt.xlim(0.01,100.)\n",
    "plt.xlabel(r\"$E_{\\gamma}$ (TeV)\")\n",
    "plt.ylabel(r\"$E^2$dN/dE (TeV cm$^{-2}$ s$^{-1}$)\")\n",
    "plt.legend()\n",
    "\n",
    "None"
   ]
  },
  {
   "cell_type": "code",
   "execution_count": null,
   "metadata": {},
   "outputs": [],
   "source": []
  },
  {
   "cell_type": "code",
   "execution_count": null,
   "metadata": {},
   "outputs": [],
   "source": []
  },
  {
   "cell_type": "code",
   "execution_count": null,
   "metadata": {},
   "outputs": [],
   "source": []
  }
 ],
 "metadata": {
  "kernelspec": {
   "display_name": "base",
   "language": "python",
   "name": "python3"
  },
  "language_info": {
   "codemirror_mode": {
    "name": "ipython",
    "version": 3
   },
   "file_extension": ".py",
   "mimetype": "text/x-python",
   "name": "python",
   "nbconvert_exporter": "python",
   "pygments_lexer": "ipython3",
   "version": "3.11.13"
  }
 },
 "nbformat": 4,
 "nbformat_minor": 4
}
